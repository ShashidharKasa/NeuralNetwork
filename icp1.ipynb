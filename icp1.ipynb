{
  "nbformat": 4,
  "nbformat_minor": 0,
  "metadata": {
    "colab": {
      "provenance": []
    },
    "kernelspec": {
      "name": "python3",
      "display_name": "Python 3"
    },
    "language_info": {
      "name": "python"
    }
  },
  "cells": [
    {
      "cell_type": "code",
      "execution_count": 4,
      "metadata": {
        "colab": {
          "base_uri": "https://localhost:8080/"
        },
        "id": "mPPwPe00rJeH",
        "outputId": "f0a4b122-c225-426e-a1b8-46ceff4458cc"
      },
      "outputs": [
        {
          "output_type": "stream",
          "name": "stdout",
          "text": [
            "Enter a string: python\n",
            "Sample output:\n",
            "htyp\n"
          ]
        }
      ],
      "source": [
        "# Input the string\n",
        "input_icp1 = input(\"Enter a string: \")\n",
        "\n",
        "# deleting 2 characters\n",
        "if len(input_icp1) >= 2:\n",
        "    updated_val = input_icp1[:-2]\n",
        "else:\n",
        "    updated_val = input_icp1\n",
        "\n",
        "# Reversing the string\n",
        "reversed_string = updated_val[::-1]\n",
        "\n",
        "# Print the result\n",
        "print(\"Sample output:\")\n",
        "print(reversed_string)\n"
      ]
    },
    {
      "cell_type": "code",
      "source": [
        "# Input a sentence\n",
        "input_icp2 = input(\"Enter a sentence: \")\n",
        "\n",
        "# Replace 'python' with 'pythons'\n",
        "updated_sentence = input_icp2.replace('python', 'pythons')\n",
        "\n",
        "# Print the result\n",
        "print(\"Sample output:\")\n",
        "print(updated_sentence)\n"
      ],
      "metadata": {
        "colab": {
          "base_uri": "https://localhost:8080/"
        },
        "id": "gtqzHbDsrdOJ",
        "outputId": "1dab3af2-205e-4e99-bc91-e00807b65be9"
      },
      "execution_count": 2,
      "outputs": [
        {
          "output_type": "stream",
          "name": "stdout",
          "text": [
            "Enter a sentence: I love playing with python\n",
            "Sample output:\n",
            "I love playing with pythons\n"
          ]
        }
      ]
    },
    {
      "cell_type": "code",
      "source": [
        "# Input class score\n",
        "score = float(input(\"Enter the class score: \"))\n",
        "\n",
        "# Use if statement conditions to determine the letter grade\n",
        "if score >= 90:\n",
        "    grade = 'A'\n",
        "elif score >= 80:\n",
        "    grade = 'B'\n",
        "elif score >= 70:\n",
        "    grade = 'C'\n",
        "elif score >= 60:\n",
        "    grade = 'D'\n",
        "else:\n",
        "    grade = 'F'\n",
        "\n",
        "# Print the result\n",
        "print(\"Letter grade:\", grade)\n"
      ],
      "metadata": {
        "colab": {
          "base_uri": "https://localhost:8080/"
        },
        "id": "ijH6A9r_rpab",
        "outputId": "3f500d87-af78-471f-d08d-a765aa65a36a"
      },
      "execution_count": 3,
      "outputs": [
        {
          "output_type": "stream",
          "name": "stdout",
          "text": [
            "Enter the class score: 55\n",
            "Letter grade: F\n"
          ]
        }
      ]
    }
  ]
}