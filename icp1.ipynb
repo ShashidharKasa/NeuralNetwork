{
  "nbformat": 4,
  "nbformat_minor": 0,
  "metadata": {
    "colab": {
      "provenance": []
    },
    "kernelspec": {
      "name": "python3",
      "display_name": "Python 3"
    },
    "language_info": {
      "name": "python"
    }
  },
  "cells": [
    {
      "cell_type": "code",
      "execution_count": 5,
      "metadata": {
        "colab": {
          "base_uri": "https://localhost:8080/"
        },
        "id": "mPPwPe00rJeH",
        "outputId": "1b7a99b3-e042-4674-d899-fcd6948fdadc"
      },
      "outputs": [
        {
          "output_type": "stream",
          "name": "stdout",
          "text": [
            "Enter a string: python\n",
            "Sample output:\n",
            "htyp\n"
          ]
        }
      ],
      "source": [
        "# Input the string\n",
        "input_icp1 = input(\"Enter a string: \")\n",
        "\n",
        "# deleting 2 characters\n",
        "if len(input_icp1) >= 2:\n",
        "    updated_val = input_icp1[:-2]\n",
        "else:\n",
        "    updated_val = input_icp1\n",
        "\n",
        "# Reversing the string\n",
        "reversed_string = updated_val[::-1]\n",
        "\n",
        "# Print the result\n",
        "print(\"Sample output:\")\n",
        "print(reversed_string)\n"
      ]
    },
    {
      "cell_type": "code",
      "source": [
        "# Take two numbers\n",
        "num1 = float(input(\"Enter the first number: \"))\n",
        "num2 = float(input(\"Enter the second number: \"))\n",
        "\n",
        "# Performing arithmetic operations\n",
        "addition = num1 + num2\n",
        "subtraction = num1 - num2\n",
        "multiplication = num1 * num2\n",
        "division = num1 / num2\n",
        "\n",
        "# Print the results\n",
        "print(f\"Addition: {addition}\")\n",
        "print(f\"Subtraction: {subtraction}\")\n",
        "print(f\"Multiplication: {multiplication}\")\n",
        "print(f\"Division: {division}\")\n"
      ],
      "metadata": {
        "colab": {
          "base_uri": "https://localhost:8080/"
        },
        "id": "qPojxNMl5hae",
        "outputId": "b2a3b8b8-4d62-43aa-ca91-7628891f83f6"
      },
      "execution_count": 7,
      "outputs": [
        {
          "output_type": "stream",
          "name": "stdout",
          "text": [
            "Enter the first number: 12\n",
            "Enter the second number: 10\n",
            "Addition: 22.0\n",
            "Subtraction: 2.0\n",
            "Multiplication: 120.0\n",
            "Division: 1.2\n"
          ]
        }
      ]
    },
    {
      "cell_type": "code",
      "source": [
        "# Input a sentence\n",
        "input_icp2 = input(\"Enter a sentence: \")\n",
        "\n",
        "# Replace 'python' with 'pythons'\n",
        "updated_sentence = input_icp2.replace('python', 'pythons')\n",
        "\n",
        "# Print the result\n",
        "print(\"Sample output:\")\n",
        "print(updated_sentence)\n"
      ],
      "metadata": {
        "colab": {
          "base_uri": "https://localhost:8080/"
        },
        "id": "gtqzHbDsrdOJ",
        "outputId": "c41e59c5-11a9-4c29-a842-a2eb4f90394b"
      },
      "execution_count": 6,
      "outputs": [
        {
          "output_type": "stream",
          "name": "stdout",
          "text": [
            "Enter a sentence: i love python\n",
            "Sample output:\n",
            "i love pythons\n"
          ]
        }
      ]
    },
    {
      "cell_type": "code",
      "source": [
        "# Input class score\n",
        "score = float(input(\"Enter the class score: \"))\n",
        "\n",
        "# Use if statement conditions to determine the letter grade\n",
        "if score >= 90:\n",
        "    grade = 'A'\n",
        "elif score >= 80:\n",
        "    grade = 'B'\n",
        "elif score >= 70:\n",
        "    grade = 'C'\n",
        "elif score >= 60:\n",
        "    grade = 'D'\n",
        "else:\n",
        "    grade = 'F'\n",
        "\n",
        "# Print the result\n",
        "print(\"Letter grade:\", grade)\n"
      ],
      "metadata": {
        "colab": {
          "base_uri": "https://localhost:8080/"
        },
        "id": "ijH6A9r_rpab",
        "outputId": "3f500d87-af78-471f-d08d-a765aa65a36a"
      },
      "execution_count": 3,
      "outputs": [
        {
          "output_type": "stream",
          "name": "stdout",
          "text": [
            "Enter the class score: 55\n",
            "Letter grade: F\n"
          ]
        }
      ]
    }
  ]
}