{
  "cells": [
    {
      "cell_type": "code",
      "execution_count": 2,
      "metadata": {
        "colab": {
          "base_uri": "https://localhost:8080/"
        },
        "id": "ZluD12yVfX9x",
        "outputId": "9b14935a-7082-47d2-99dc-bcf239d84623"
      },
      "outputs": [
        {
          "name": "stdout",
          "output_type": "stream",
          "text": [
            "Original random vector:\n",
            "[19.16751061 13.98127822  9.49338428 17.8713741   0.         12.74972733\n",
            " 12.99727686 10.61683073 18.17649155  0.          0.          5.61640962\n",
            "  1.29346224  6.54635807  4.14339426  7.05024876 11.78598482  0.\n",
            " 13.17459671 11.28645148]\n",
            "\n",
            "Reshaped array with max values replaced by 0:\n",
            "[[19.16751061 13.98127822  9.49338428 17.8713741   0.        ]\n",
            " [12.74972733 12.99727686 10.61683073 18.17649155  0.        ]\n",
            " [ 0.          5.61640962  1.29346224  6.54635807  4.14339426]\n",
            " [ 7.05024876 11.78598482  0.         13.17459671 11.28645148]]\n"
          ]
        }
      ],
      "source": [
        "import numpy as np\n",
        "\n",
        "# Create a random vector of size 20 with float values in the range 1-20\n",
        "random_vector = np.random.uniform(1, 20, 20)\n",
        "\n",
        "# Reshape the array to 4 by 5\n",
        "reshaped_array = random_vector.reshape(4, 5)\n",
        "\n",
        "# Identify the maximum values along each row\n",
        "max_values = np.max(reshaped_array, axis=1, keepdims=True)\n",
        "\n",
        "# Replace the maximum values with 0\n",
        "reshaped_array[reshaped_array == max_values] = 0\n",
        "\n",
        "print(\"Original random vector:\")\n",
        "print(random_vector)\n",
        "print(\"\\nReshaped array with max values replaced by 0:\")\n",
        "print(reshaped_array)\n"
      ]
    }
  ],
  "metadata": {
    "colab": {
      "provenance": []
    },
    "kernelspec": {
      "display_name": "Python 3",
      "name": "python3"
    },
    "language_info": {
      "codemirror_mode": {
        "name": "ipython",
        "version": 3
      },
      "file_extension": ".py",
      "mimetype": "text/x-python",
      "name": "python",
      "nbconvert_exporter": "python",
      "pygments_lexer": "ipython3",
      "version": "3.11.4"
    }
  },
  "nbformat": 4,
  "nbformat_minor": 0
}
