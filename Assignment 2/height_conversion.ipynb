{
  "nbformat": 4,
  "nbformat_minor": 0,
  "metadata": {
    "colab": {
      "provenance": []
    },
    "kernelspec": {
      "name": "python3",
      "display_name": "Python 3"
    },
    "language_info": {
      "name": "python"
    }
  },
  "cells": [
    {
      "cell_type": "code",
      "source": [
        "# Nested Interactive loop approach\n",
        "def convert_heights_nested(heights):\n",
        "    converted_heights = []\n",
        "    for height in heights:\n",
        "        cm = height * 2.54\n",
        "        converted_heights.append(cm)\n",
        "    return converted_heights\n",
        "\n",
        "# List comprehensions approach\n",
        "def convert_heights_comprehension(heights):\n",
        "    return [height * 2.54 for height in heights]\n",
        "\n",
        "def main():\n",
        "    heights = []\n",
        "    n = int(input(\"Enter the number of heights: \"))\n",
        "    for _ in range(n):\n",
        "        height = float(input(\"Enter height in inches: \"))\n",
        "        heights.append(height)\n",
        "\n",
        "    converted_nested = convert_heights_nested(heights)\n",
        "    converted_comprehension = convert_heights_comprehension(heights)\n",
        "\n",
        "    print(\"Converted Heights using Nested Loop:\", converted_nested)\n",
        "    print(\"Converted Heights using List Comprehensions:\", converted_comprehension)\n",
        "\n",
        "if __name__ == \"__main__\":\n",
        "    main()"
      ],
      "metadata": {
        "colab": {
          "base_uri": "https://localhost:8080/"
        },
        "id": "JipJznekEFaS",
        "outputId": "46d471cb-2cb3-46b9-fbf2-37997a261791"
      },
      "execution_count": 3,
      "outputs": [
        {
          "output_type": "stream",
          "name": "stdout",
          "text": [
            "Enter the number of heights: 2\n",
            "Enter height in inches: 110\n",
            "Enter height in inches: 140\n",
            "Converted Heights using Nested Loop: [279.4, 355.6]\n",
            "Converted Heights using List Comprehensions: [279.4, 355.6]\n"
          ]
        }
      ]
    }
  ]
}