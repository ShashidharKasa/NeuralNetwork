{
  "nbformat": 4,
  "nbformat_minor": 0,
  "metadata": {
    "colab": {
      "provenance": []
    },
    "kernelspec": {
      "name": "python3",
      "display_name": "Python 3"
    },
    "language_info": {
      "name": "python"
    }
  },
  "cells": [
    {
      "cell_type": "code",
      "source": [
        "\n",
        "def fullname(first_name, last_name):\n",
        "    return first_name + \" \" + last_name\n",
        "\n",
        "def string_alternative(input_string):\n",
        "    return input_string[::2]\n",
        "\n",
        "def main():\n",
        "    first_name = input(\"Enter your first name: \")\n",
        "    last_name = input(\"Enter your last name: \")\n",
        "\n",
        "    full_name = fullname(first_name, last_name)\n",
        "    print(\"Full Name:\", full_name)\n",
        "\n",
        "    alternate_chars = string_alternative(full_name)\n",
        "    print(\"Alternate Characters:\", alternate_chars)\n",
        "\n",
        "if __name__ == \"__main__\":\n",
        "    main()"
      ],
      "metadata": {
        "id": "swnKmjPwJQW7",
        "outputId": "1dc64ce1-c019-4168-bee4-2fc847e12ecd",
        "colab": {
          "base_uri": "https://localhost:8080/"
        }
      },
      "execution_count": 4,
      "outputs": [
        {
          "output_type": "stream",
          "name": "stdout",
          "text": [
            "Enter your first name: Shashidhar\n",
            "Enter your last name: Kasa\n",
            "Full Name: Shashidhar Kasa\n",
            "Alternate Characters: Sahda aa\n"
          ]
        }
      ]
    }
  ]
}